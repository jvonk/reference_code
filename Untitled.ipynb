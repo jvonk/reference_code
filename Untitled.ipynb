{
 "cells": [
  {
   "cell_type": "code",
   "execution_count": 1062,
   "metadata": {},
   "outputs": [],
   "source": [
    "import numpy as np\n",
    "import pandas as pd"
   ]
  },
  {
   "cell_type": "code",
   "execution_count": 1082,
   "metadata": {},
   "outputs": [],
   "source": [
    "df = pd.read_csv('pi_pact_scan.csv')"
   ]
  },
  {
   "cell_type": "code",
   "execution_count": 1083,
   "metadata": {},
   "outputs": [],
   "source": [
    "df=df.drop(columns=['DISTANCE'])\n",
    "df['TIMESTAMP']=pd.to_datetime(df['TIMESTAMP'])\n",
    "df['SCANNER']=pd.to_numeric(df['SCANNER'], errors='coerce')\n",
    "df['ADVERTISER']=pd.to_numeric(df['ADVERTISER'], errors='coerce')\n",
    "df['TX POWER']=-75.15\n",
    "df['RSSI']=pd.to_numeric(df['RSSI'], errors='coerce')\n",
    "df=df.dropna()\n",
    "df=df.query('RSSI<0')\n",
    "df['RSSI']=df['RSSI'].astype(np.int16)\n",
    "df['DIRECTION']=0.34\n",
    "df.to_csv('pi_pact.csv')"
   ]
  },
  {
   "cell_type": "code",
   "execution_count": 1084,
   "metadata": {},
   "outputs": [],
   "source": [
    "positions=[(2, 0), (0, 0), (0, 2), (1, 2), (2, 2), (3, 2), (3, 0)]\n",
    "x_dict=dict(enumerate([p[0] for p in positions]))\n",
    "y_dict=dict(enumerate([p[1] for p in positions]))\n",
    "dx=df[\"SCANNER\"].replace(x_dict)-df[\"ADVERTISER\"].replace(x_dict)\n",
    "dy=df[\"SCANNER\"].replace(y_dict)-df[\"ADVERTISER\"].replace(y_dict)\n",
    "df['DISTANCE']=np.hypot(dx,dy)*12*2.54/100\n",
    "df['ANGLE']=(np.arctan2(dy,dx)+df['DIRECTION']+np.pi)%(2*np.pi)-np.pi\n",
    "offset=np.log(0.8*np.abs(np.cos(np.pi/2*np.cos(2*df['ANGLE']-np.pi/2))/np.sin(2*df['ANGLE']-np.pi/2))**2+0.2)*10\n",
    "df['ESTIMATE']=10**((df['TX POWER']-df['RSSI']-offset) / 10/2)\n",
    "df.to_csv('pi_pact_processed.csv')"
   ]
  }
 ],
 "metadata": {
  "kernelspec": {
   "display_name": "Python 3",
   "language": "python",
   "name": "python3"
  },
  "language_info": {
   "codemirror_mode": {
    "name": "ipython",
    "version": 3
   },
   "file_extension": ".py",
   "mimetype": "text/x-python",
   "name": "python",
   "nbconvert_exporter": "python",
   "pygments_lexer": "ipython3",
   "version": "3.7.4"
  }
 },
 "nbformat": 4,
 "nbformat_minor": 2
}
